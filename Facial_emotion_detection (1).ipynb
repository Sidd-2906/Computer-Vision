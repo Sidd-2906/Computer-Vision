{
  "nbformat": 4,
  "nbformat_minor": 0,
  "metadata": {
    "colab": {
      "provenance": []
    },
    "kernelspec": {
      "name": "python3",
      "display_name": "Python 3"
    },
    "language_info": {
      "name": "python"
    },
    "accelerator": "GPU",
    "gpuClass": "standard"
  },
  "cells": [
    {
      "cell_type": "code",
      "execution_count": null,
      "metadata": {
        "id": "18tCzbLBfnT_"
      },
      "outputs": [],
      "source": [
        "import cv2\n",
        "import numpy as np\n",
        "import matplotlib.pyplot as plt\n",
        "import seaborn as sns\n",
        "from google.colab.patches import cv2_imshow\n",
        "import tensorflow as tf\n",
        "from tensorflow.keras.preprocessing.image import ImageDataGenerator\n",
        "from tensorflow.keras.models import Sequential\n",
        "from tensorflow.keras.layers import Dense, Dropout, Conv2D, MaxPooling2D, Flatten, BatchNormalization"
      ]
    },
    {
      "cell_type": "code",
      "source": [
        "from google.colab import drive\n",
        "drive.mount('/content/drive')"
      ],
      "metadata": {
        "colab": {
          "base_uri": "https://localhost:8080/"
        },
        "id": "3aoBnslDf43k",
        "outputId": "fc1c7791-c735-4a14-a727-7cae2c78a646"
      },
      "execution_count": null,
      "outputs": [
        {
          "output_type": "stream",
          "name": "stdout",
          "text": [
            "Mounted at /content/drive\n"
          ]
        }
      ]
    },
    {
      "cell_type": "code",
      "source": [
        "!unzip /content/drive/MyDrive/Datasets-20230122T094010Z-001.zip"
      ],
      "metadata": {
        "colab": {
          "base_uri": "https://localhost:8080/"
        },
        "id": "Zh7SY0j1f-LR",
        "outputId": "b8d7a9e6-bcd6-45f8-b942-5fb0b04ee819"
      },
      "execution_count": null,
      "outputs": [
        {
          "output_type": "stream",
          "name": "stdout",
          "text": [
            "Archive:  /content/drive/MyDrive/Datasets-20230122T094010Z-001.zip\n",
            "  inflating: Datasets/jones_gabriel.zip  \n",
            "  inflating: Datasets/yalefaces.zip  \n",
            "  inflating: Datasets/homer_bart_2.zip  \n",
            "  inflating: Datasets/homer_bart_1.zip  \n",
            "  inflating: Datasets/fer2013_2_classes.zip  \n",
            "  inflating: Datasets/cat_dog_2.zip  \n",
            "  inflating: Datasets/cat_dog_1.zip  \n",
            "  inflating: Datasets/fer_images.zip  \n"
          ]
        }
      ]
    },
    {
      "cell_type": "code",
      "source": [
        "!unzip /content/Datasets/fer_images.zip"
      ],
      "metadata": {
        "id": "zY_rRdrqgZqR"
      },
      "execution_count": null,
      "outputs": []
    },
    {
      "cell_type": "markdown",
      "source": [
        "**Train and Test**"
      ],
      "metadata": {
        "id": "O_7TpM6Wg9rz"
      }
    },
    {
      "cell_type": "code",
      "source": [
        "train_generator = ImageDataGenerator(rescale=1./255,rotation_range= 7,horizontal_flip=0.2, zoom_range= 0.2)\n",
        "train_dataset = train_generator.flow_from_directory('/content/fer2013/train',target_size = (48,48),batch_size = 15,class_mode = 'categorical',shuffle = True)\n"
      ],
      "metadata": {
        "colab": {
          "base_uri": "https://localhost:8080/"
        },
        "id": "CEXbV1vxgpxL",
        "outputId": "095ea587-da98-49ac-e533-85ef8901a3f2"
      },
      "execution_count": null,
      "outputs": [
        {
          "output_type": "stream",
          "name": "stdout",
          "text": [
            "Found 28709 images belonging to 7 classes.\n"
          ]
        }
      ]
    },
    {
      "cell_type": "code",
      "source": [
        "train_dataset.classes"
      ],
      "metadata": {
        "colab": {
          "base_uri": "https://localhost:8080/"
        },
        "id": "_NP7g-EYifBr",
        "outputId": "fc4f3dae-adf2-4636-f790-28f9ed3edd36"
      },
      "execution_count": null,
      "outputs": [
        {
          "output_type": "execute_result",
          "data": {
            "text/plain": [
              "array([0, 0, 0, ..., 6, 6, 6], dtype=int32)"
            ]
          },
          "metadata": {},
          "execution_count": 6
        }
      ]
    },
    {
      "cell_type": "code",
      "source": [
        "train_dataset.class_indices"
      ],
      "metadata": {
        "colab": {
          "base_uri": "https://localhost:8080/"
        },
        "id": "O2PlfuAmiqz2",
        "outputId": "f8018cff-32e4-439b-b8fb-7c5dea03ce17"
      },
      "execution_count": null,
      "outputs": [
        {
          "output_type": "execute_result",
          "data": {
            "text/plain": [
              "{'Angry': 0,\n",
              " 'Disgust': 1,\n",
              " 'Fear': 2,\n",
              " 'Happy': 3,\n",
              " 'Neutral': 4,\n",
              " 'Sad': 5,\n",
              " 'Surprise': 6}"
            ]
          },
          "metadata": {},
          "execution_count": 7
        }
      ]
    },
    {
      "cell_type": "code",
      "source": [
        "sns.countplot(x = train_dataset.classes);"
      ],
      "metadata": {
        "colab": {
          "base_uri": "https://localhost:8080/",
          "height": 265
        },
        "id": "QL1Vt8xriv0U",
        "outputId": "271fd57d-9696-46a9-db23-37e1641c5a62"
      },
      "execution_count": null,
      "outputs": [
        {
          "output_type": "display_data",
          "data": {
            "text/plain": [
              "<Figure size 432x288 with 1 Axes>"
            ],
            "image/png": "[encoded data removed]"
          },
          "metadata": {
            "needs_background": "light"
          }
        }
      ]
    },
    {
      "cell_type": "code",
      "source": [
        "test_generator = ImageDataGenerator(rescale = 1./255)\n",
        "test_dataset = test_generator.flow_from_directory(\"/content/fer2013/validation\",target_size = (48,48),batch_size = 1,class_mode= 'categorical',shuffle = False)"
      ],
      "metadata": {
        "colab": {
          "base_uri": "https://localhost:8080/"
        },
        "id": "uWaPGPPqi_Wz",
        "outputId": "f81f22e7-8a03-421d-fe2b-54fbe4ba275a"
      },
      "execution_count": null,
      "outputs": [
        {
          "output_type": "stream",
          "name": "stdout",
          "text": [
            "Found 3589 images belonging to 7 classes.\n"
          ]
        }
      ]
    },
    {
      "cell_type": "markdown",
      "source": [
        "**Building and Training the convolution neural network**"
      ],
      "metadata": {
        "id": "VoGjNC7yj_ui"
      }
    },
    {
      "cell_type": "code",
      "source": [
        "num_detectors = 32\n",
        "num_classes = 7\n",
        "width, height = 48, 48\n",
        "epochs = 70\n",
        "\n",
        "network = Sequential()\n",
        "\n",
        "network.add(Conv2D(num_detectors, (3,3), activation='relu', padding = 'same', input_shape = (width, height, 3)))\n",
        "network.add(BatchNormalization())\n",
        "network.add(Conv2D(num_detectors, (3,3), activation='relu', padding = 'same'))\n",
        "network.add(BatchNormalization())\n",
        "network.add(MaxPooling2D(pool_size=(2,2)))\n",
        "network.add(Dropout(0.2))\n",
        "\n",
        "network.add(Conv2D(2*num_detectors, (3,3), activation='relu', padding = 'same'))\n",
        "network.add(BatchNormalization())\n",
        "network.add(Conv2D(2*num_detectors, (3,3), activation='relu', padding = 'same'))\n",
        "network.add(BatchNormalization())\n",
        "network.add(MaxPooling2D(pool_size=(2,2)))\n",
        "network.add(Dropout(0.2))\n",
        "\n",
        "network.add(Conv2D(2*2*num_detectors, (3,3), activation='relu', padding = 'same'))\n",
        "network.add(BatchNormalization())\n",
        "network.add(Conv2D(2*2*num_detectors, (3,3), activation='relu', padding = 'same'))\n",
        "network.add(BatchNormalization())\n",
        "network.add(MaxPooling2D(pool_size=(2,2)))\n",
        "network.add(Dropout(0.2))\n",
        "\n",
        "network.add(Conv2D(2*2*2*num_detectors, (3,3), activation='relu', padding = 'same'))\n",
        "network.add(BatchNormalization())\n",
        "network.add(Conv2D(2*2*2*num_detectors, (3,3), activation='relu', padding = 'same'))\n",
        "network.add(BatchNormalization())\n",
        "network.add(MaxPooling2D(pool_size=(2,2)))\n",
        "network.add(Dropout(0.2))\n",
        "\n",
        "network.add(Flatten())\n",
        "\n",
        "network.add(Dense(2 * num_detectors, activation='relu'))\n",
        "network.add(BatchNormalization())\n",
        "network.add(Dropout(0.2))\n",
        "\n",
        "network.add(Dense(2 * num_detectors, activation='relu'))\n",
        "network.add(BatchNormalization())\n",
        "network.add(Dropout(0.2))\n",
        "\n",
        "network.add(Dense(num_classes, activation='softmax'))\n"
      ],
      "metadata": {
        "id": "zkNZxPTzj7QN"
      },
      "execution_count": null,
      "outputs": []
    },
    {
      "cell_type": "code",
      "source": [
        "network.summary()"
      ],
      "metadata": {
        "colab": {
          "base_uri": "https://localhost:8080/"
        },
        "id": "0fa6AwQrksAZ",
        "outputId": "e46bfaa2-11d5-41ee-bf9d-90c2caf1c697"
      },
      "execution_count": null,
      "outputs": [
        {
          "output_type": "stream",
          "name": "stdout",
          "text": [
            "Model: \"sequential\"\n",
            "_________________________________________________________________\n",
            " Layer (type)                Output Shape              Param #   \n",
            "=================================================================\n",
            " conv2d (Conv2D)             (None, 48, 48, 32)        896       \n",
            "                                                                 \n",
            " batch_normalization (BatchN  (None, 48, 48, 32)       128       \n",
            " ormalization)                                                   \n",
            "                                                                 \n",
            " conv2d_1 (Conv2D)           (None, 48, 48, 32)        9248      \n",
            "                                                                 \n",
            " batch_normalization_1 (Batc  (None, 48, 48, 32)       128       \n",
            " hNormalization)                                                 \n",
            "                                                                 \n",
            " max_pooling2d (MaxPooling2D  (None, 24, 24, 32)       0         \n",
            " )                                                               \n",
            "                                                                 \n",
            " dropout (Dropout)           (None, 24, 24, 32)        0         \n",
            "                                                                 \n",
            " conv2d_2 (Conv2D)           (None, 24, 24, 64)        18496     \n",
            "                                                                 \n",
            " batch_normalization_2 (Batc  (None, 24, 24, 64)       256       \n",
            " hNormalization)                                                 \n",
            "                                                                 \n",
            " conv2d_3 (Conv2D)           (None, 24, 24, 64)        36928     \n",
            "                                                                 \n",
            " batch_normalization_3 (Batc  (None, 24, 24, 64)       256       \n",
            " hNormalization)                                                 \n",
            "                                                                 \n",
            " max_pooling2d_1 (MaxPooling  (None, 12, 12, 64)       0         \n",
            " 2D)                                                             \n",
            "                                                                 \n",
            " dropout_1 (Dropout)         (None, 12, 12, 64)        0         \n",
            "                                                                 \n",
            " conv2d_4 (Conv2D)           (None, 12, 12, 128)       73856     \n",
            "                                                                 \n",
            " batch_normalization_4 (Batc  (None, 12, 12, 128)      512       \n",
            " hNormalization)                                                 \n",
            "                                                                 \n",
            " conv2d_5 (Conv2D)           (None, 12, 12, 128)       147584    \n",
            "                                                                 \n",
            " batch_normalization_5 (Batc  (None, 12, 12, 128)      512       \n",
            " hNormalization)                                                 \n",
            "                                                                 \n",
            " max_pooling2d_2 (MaxPooling  (None, 6, 6, 128)        0         \n",
            " 2D)                                                             \n",
            "                                                                 \n",
            " dropout_2 (Dropout)         (None, 6, 6, 128)         0         \n",
            "                                                                 \n",
            " conv2d_6 (Conv2D)           (None, 6, 6, 256)         295168    \n",
            "                                                                 \n",
            " batch_normalization_6 (Batc  (None, 6, 6, 256)        1024      \n",
            " hNormalization)                                                 \n",
            "                                                                 \n",
            " conv2d_7 (Conv2D)           (None, 6, 6, 256)         590080    \n",
            "                                                                 \n",
            " batch_normalization_7 (Batc  (None, 6, 6, 256)        1024      \n",
            " hNormalization)                                                 \n",
            "                                                                 \n",
            " max_pooling2d_3 (MaxPooling  (None, 3, 3, 256)        0         \n",
            " 2D)                                                             \n",
            "                                                                 \n",
            " dropout_3 (Dropout)         (None, 3, 3, 256)         0         \n",
            "                                                                 \n",
            " flatten (Flatten)           (None, 2304)              0         \n",
            "                                                                 \n",
            " dense (Dense)               (None, 64)                147520    \n",
            "                                                                 \n",
            " batch_normalization_8 (Batc  (None, 64)               256       \n",
            " hNormalization)                                                 \n",
            "                                                                 \n",
            " dropout_4 (Dropout)         (None, 64)                0         \n",
            "                                                                 \n",
            " dense_1 (Dense)             (None, 64)                4160      \n",
            "                                                                 \n",
            " batch_normalization_9 (Batc  (None, 64)               256       \n",
            " hNormalization)                                                 \n",
            "                                                                 \n",
            " dropout_5 (Dropout)         (None, 64)                0         \n",
            "                                                                 \n",
            " dense_2 (Dense)             (None, 7)                 455       \n",
            "                                                                 \n",
            "=================================================================\n",
            "Total params: 1,328,743\n",
            "Trainable params: 1,326,567\n",
            "Non-trainable params: 2,176\n",
            "_________________________________________________________________\n"
          ]
        }
      ]
    },
    {
      "cell_type": "code",
      "source": [
        "network.compile(optimizer='Adam', loss='categorical_crossentropy', metrics=['accuracy'])"
      ],
      "metadata": {
        "id": "6Xvpm4TDksSj"
      },
      "execution_count": null,
      "outputs": []
    },
    {
      "cell_type": "code",
      "source": [
        "history = network.fit(train_dataset, epochs=epochs)"
      ],
      "metadata": {
        "colab": {
          "base_uri": "https://localhost:8080/"
        },
        "id": "Dccs2h2hkomf",
        "outputId": "a0259584-4f5b-433e-de85-237d8c844e7e"
      },
      "execution_count": null,
      "outputs": [
        {
          "output_type": "stream",
          "name": "stdout",
          "text": [
            "Epoch 1/70\n",
            "1914/1914 [==============================] - 85s 35ms/step - loss: 1.8427 - accuracy: 0.2754\n",
            "Epoch 2/70\n",
            "1914/1914 [==============================] - 56s 29ms/step - loss: 1.5350 - accuracy: 0.4018\n",
            "Epoch 3/70\n",
            "1914/1914 [==============================] - 55s 29ms/step - loss: 1.3963 - accuracy: 0.4665\n",
            "Epoch 4/70\n",
            "1914/1914 [==============================] - 56s 29ms/step - loss: 1.3113 - accuracy: 0.5038\n",
            "Epoch 5/70\n",
            "1914/1914 [==============================] - 59s 31ms/step - loss: 1.2503 - accuracy: 0.5327\n",
            "Epoch 6/70\n",
            "1914/1914 [==============================] - 56s 29ms/step - loss: 1.2203 - accuracy: 0.5419\n",
            "Epoch 7/70\n",
            "1914/1914 [==============================] - 58s 31ms/step - loss: 1.1836 - accuracy: 0.5581\n",
            "Epoch 8/70\n",
            "1914/1914 [==============================] - 56s 29ms/step - loss: 1.1549 - accuracy: 0.5709\n",
            "Epoch 9/70\n",
            "1914/1914 [==============================] - 56s 29ms/step - loss: 1.1292 - accuracy: 0.5822\n",
            "Epoch 10/70\n",
            "1914/1914 [==============================] - 56s 29ms/step - loss: 1.1048 - accuracy: 0.5909\n",
            "Epoch 11/70\n",
            "1914/1914 [==============================] - 56s 29ms/step - loss: 1.0874 - accuracy: 0.5993\n",
            "Epoch 12/70\n",
            "1914/1914 [==============================] - 56s 29ms/step - loss: 1.0706 - accuracy: 0.6076\n",
            "Epoch 13/70\n",
            "1914/1914 [==============================] - 57s 30ms/step - loss: 1.0669 - accuracy: 0.6064\n",
            "Epoch 14/70\n",
            "1914/1914 [==============================] - 57s 30ms/step - loss: 1.0435 - accuracy: 0.6163\n",
            "Epoch 15/70\n",
            "1914/1914 [==============================] - 56s 29ms/step - loss: 1.0237 - accuracy: 0.6258\n",
            "Epoch 16/70\n",
            "1914/1914 [==============================] - 57s 30ms/step - loss: 1.0172 - accuracy: 0.6264\n",
            "Epoch 17/70\n",
            "1914/1914 [==============================] - 55s 29ms/step - loss: 1.0024 - accuracy: 0.6314\n",
            "Epoch 18/70\n",
            "1914/1914 [==============================] - 55s 29ms/step - loss: 0.9951 - accuracy: 0.6341\n",
            "Epoch 19/70\n",
            "1914/1914 [==============================] - 56s 29ms/step - loss: 0.9841 - accuracy: 0.6400\n",
            "Epoch 20/70\n",
            "1914/1914 [==============================] - 56s 29ms/step - loss: 0.9723 - accuracy: 0.6419\n",
            "Epoch 21/70\n",
            "1914/1914 [==============================] - 56s 29ms/step - loss: 0.9608 - accuracy: 0.6499\n",
            "Epoch 22/70\n",
            "1914/1914 [==============================] - 56s 29ms/step - loss: 0.9467 - accuracy: 0.6523\n",
            "Epoch 23/70\n",
            "1914/1914 [==============================] - 55s 29ms/step - loss: 0.9476 - accuracy: 0.6520\n",
            "Epoch 24/70\n",
            "1914/1914 [==============================] - 54s 28ms/step - loss: 0.9420 - accuracy: 0.6567\n",
            "Epoch 25/70\n",
            "1914/1914 [==============================] - 55s 29ms/step - loss: 0.9354 - accuracy: 0.6559\n",
            "Epoch 26/70\n",
            "1914/1914 [==============================] - 54s 28ms/step - loss: 0.9200 - accuracy: 0.6632\n",
            "Epoch 27/70\n",
            "1914/1914 [==============================] - 54s 28ms/step - loss: 0.9081 - accuracy: 0.6684\n",
            "Epoch 28/70\n",
            "1914/1914 [==============================] - 53s 28ms/step - loss: 0.9069 - accuracy: 0.6674\n",
            "Epoch 29/70\n",
            "1914/1914 [==============================] - 54s 28ms/step - loss: 0.9004 - accuracy: 0.6670\n",
            "Epoch 30/70\n",
            "1914/1914 [==============================] - 55s 29ms/step - loss: 0.8938 - accuracy: 0.6749\n",
            "Epoch 31/70\n",
            "1914/1914 [==============================] - 54s 28ms/step - loss: 0.9048 - accuracy: 0.6688\n",
            "Epoch 32/70\n",
            "1914/1914 [==============================] - 53s 28ms/step - loss: 0.8875 - accuracy: 0.6753\n",
            "Epoch 33/70\n",
            "1914/1914 [==============================] - 53s 28ms/step - loss: 0.8720 - accuracy: 0.6809\n",
            "Epoch 34/70\n",
            "1914/1914 [==============================] - 55s 29ms/step - loss: 0.8795 - accuracy: 0.6798\n",
            "Epoch 35/70\n",
            "1914/1914 [==============================] - 53s 28ms/step - loss: 0.8841 - accuracy: 0.6747\n",
            "Epoch 36/70\n",
            "1914/1914 [==============================] - 54s 28ms/step - loss: 0.8702 - accuracy: 0.6819\n",
            "Epoch 37/70\n",
            "1914/1914 [==============================] - 54s 28ms/step - loss: 0.8531 - accuracy: 0.6898\n",
            "Epoch 38/70\n",
            "1914/1914 [==============================] - 54s 28ms/step - loss: 0.8533 - accuracy: 0.6863\n",
            "Epoch 39/70\n",
            "1914/1914 [==============================] - 54s 28ms/step - loss: 0.8413 - accuracy: 0.6914\n",
            "Epoch 40/70\n",
            "1914/1914 [==============================] - 54s 28ms/step - loss: 0.8344 - accuracy: 0.6936\n",
            "Epoch 41/70\n",
            "1914/1914 [==============================] - 53s 28ms/step - loss: 0.8316 - accuracy: 0.6950\n",
            "Epoch 42/70\n",
            "1914/1914 [==============================] - 52s 27ms/step - loss: 0.8218 - accuracy: 0.7007\n",
            "Epoch 43/70\n",
            "1914/1914 [==============================] - 53s 27ms/step - loss: 0.8299 - accuracy: 0.6954\n",
            "Epoch 44/70\n",
            "1914/1914 [==============================] - 55s 29ms/step - loss: 0.8152 - accuracy: 0.7052\n",
            "Epoch 45/70\n",
            "1914/1914 [==============================] - 53s 28ms/step - loss: 0.8063 - accuracy: 0.7074\n",
            "Epoch 46/70\n",
            "1914/1914 [==============================] - 53s 28ms/step - loss: 0.8013 - accuracy: 0.7087\n",
            "Epoch 47/70\n",
            "1914/1914 [==============================] - 54s 28ms/step - loss: 0.8012 - accuracy: 0.7104\n",
            "Epoch 48/70\n",
            "1914/1914 [==============================] - 54s 28ms/step - loss: 0.7939 - accuracy: 0.7108\n",
            "Epoch 49/70\n",
            "1914/1914 [==============================] - 53s 28ms/step - loss: 0.7851 - accuracy: 0.7156\n",
            "Epoch 50/70\n",
            "1914/1914 [==============================] - 54s 28ms/step - loss: 0.7864 - accuracy: 0.7128\n",
            "Epoch 51/70\n",
            "1914/1914 [==============================] - 52s 27ms/step - loss: 0.7877 - accuracy: 0.7136\n",
            "Epoch 52/70\n",
            "1914/1914 [==============================] - 52s 27ms/step - loss: 0.7766 - accuracy: 0.7182\n",
            "Epoch 53/70\n",
            "1914/1914 [==============================] - 52s 27ms/step - loss: 0.7667 - accuracy: 0.7229\n",
            "Epoch 54/70\n",
            "1914/1914 [==============================] - 55s 28ms/step - loss: 0.7724 - accuracy: 0.7179\n",
            "Epoch 55/70\n",
            "1914/1914 [==============================] - 52s 27ms/step - loss: 0.7647 - accuracy: 0.7230\n",
            "Epoch 56/70\n",
            "1914/1914 [==============================] - 52s 27ms/step - loss: 0.7605 - accuracy: 0.7268\n",
            "Epoch 57/70\n",
            "1914/1914 [==============================] - 53s 27ms/step - loss: 0.7531 - accuracy: 0.7259\n",
            "Epoch 58/70\n",
            "1914/1914 [==============================] - 51s 27ms/step - loss: 0.7513 - accuracy: 0.7313\n",
            "Epoch 59/70\n",
            "1914/1914 [==============================] - 52s 27ms/step - loss: 0.7478 - accuracy: 0.7299\n",
            "Epoch 60/70\n",
            "1914/1914 [==============================] - 52s 27ms/step - loss: 0.7328 - accuracy: 0.7342\n",
            "Epoch 61/70\n",
            "1914/1914 [==============================] - 53s 28ms/step - loss: 0.7376 - accuracy: 0.7337\n",
            "Epoch 62/70\n",
            "1914/1914 [==============================] - 53s 28ms/step - loss: 0.7289 - accuracy: 0.7369\n",
            "Epoch 63/70\n",
            "1914/1914 [==============================] - 53s 28ms/step - loss: 0.7360 - accuracy: 0.7334\n",
            "Epoch 64/70\n",
            "1914/1914 [==============================] - 53s 28ms/step - loss: 0.7199 - accuracy: 0.7410\n",
            "Epoch 65/70\n",
            "1914/1914 [==============================] - 52s 27ms/step - loss: 0.7118 - accuracy: 0.7422\n",
            "Epoch 66/70\n",
            "1914/1914 [==============================] - 52s 27ms/step - loss: 0.7236 - accuracy: 0.7394\n",
            "Epoch 67/70\n",
            "1914/1914 [==============================] - 53s 28ms/step - loss: 0.7071 - accuracy: 0.7469\n",
            "Epoch 68/70\n",
            "1914/1914 [==============================] - 51s 27ms/step - loss: 0.7077 - accuracy: 0.7446\n",
            "Epoch 69/70\n",
            "1914/1914 [==============================] - 52s 27ms/step - loss: 0.7059 - accuracy: 0.7468\n",
            "Epoch 70/70\n",
            "1914/1914 [==============================] - 52s 27ms/step - loss: 0.6915 - accuracy: 0.7513\n"
          ]
        }
      ]
    },
    {
      "cell_type": "markdown",
      "source": [
        "**Evaluating the neural network**"
      ],
      "metadata": {
        "id": "P1CHnePnm7Dm"
      }
    },
    {
      "cell_type": "code",
      "source": [
        "history.history.keys()"
      ],
      "metadata": {
        "colab": {
          "base_uri": "https://localhost:8080/"
        },
        "id": "HCJwIRd5nBGi",
        "outputId": "26407fc2-547f-408e-93dd-e54693eedabb"
      },
      "execution_count": null,
      "outputs": [
        {
          "output_type": "execute_result",
          "data": {
            "text/plain": [
              "dict_keys(['loss', 'accuracy'])"
            ]
          },
          "metadata": {},
          "execution_count": 15
        }
      ]
    },
    {
      "cell_type": "code",
      "source": [
        "plt.plot(history.history['loss']);"
      ],
      "metadata": {
        "colab": {
          "base_uri": "https://localhost:8080/",
          "height": 265
        },
        "id": "vSXezVlq1r9p",
        "outputId": "52ada87e-4cec-4a19-c146-c849436d1e76"
      },
      "execution_count": null,
      "outputs": [
        {
          "output_type": "display_data",
          "data": {
            "text/plain": [
              "<Figure size 432x288 with 1 Axes>"
            ],
            "image/png": "[encoded data removed]"
          },
          "metadata": {
            "needs_background": "light"
          }
        }
      ]
    },
    {
      "cell_type": "code",
      "source": [
        "plt.plot(history.history['accuracy'])"
      ],
      "metadata": {
        "colab": {
          "base_uri": "https://localhost:8080/",
          "height": 282
        },
        "id": "fvMWCV9H13EX",
        "outputId": "6a37706d-1ce7-47f8-c28e-873c6bb88114"
      },
      "execution_count": null,
      "outputs": [
        {
          "output_type": "execute_result",
          "data": {
            "text/plain": [
              "[<matplotlib.lines.Line2D at 0x7f611d18b430>]"
            ]
          },
          "metadata": {},
          "execution_count": 18
        },
        {
          "output_type": "display_data",
          "data": {
            "text/plain": [
              "<Figure size 432x288 with 1 Axes>"
            ],
            "image/png": "[encoded data removed]"
          },
          "metadata": {
            "needs_background": "light"
          }
        }
      ]
    },
    {
      "cell_type": "code",
      "source": [
        "predictions = network.predict(test_dataset)\n",
        "predictions"
      ],
      "metadata": {
        "colab": {
          "base_uri": "https://localhost:8080/"
        },
        "id": "yKXH9zCy2GFA",
        "outputId": "1aa508dd-c4cf-47a0-c134-4a6986713952"
      },
      "execution_count": null,
      "outputs": [
        {
          "output_type": "stream",
          "name": "stdout",
          "text": [
            "3589/3589 [==============================] - 16s 4ms/step\n"
          ]
        },
        {
          "output_type": "execute_result",
          "data": {
            "text/plain": [
              "array([[1.7546661e-01, 9.7252574e-04, 7.4835390e-02, ..., 6.0420066e-01,\n",
              "        1.1395230e-01, 3.0339574e-02],\n",
              "       [9.4912416e-01, 5.7721649e-05, 4.7683198e-02, ..., 1.2917284e-04,\n",
              "        1.9954711e-03, 9.7425078e-04],\n",
              "       [9.8852205e-01, 3.5300912e-04, 2.0271202e-03, ..., 7.9815829e-04,\n",
              "        6.9019105e-03, 1.4131874e-06],\n",
              "       ...,\n",
              "       [4.6007666e-03, 7.8591474e-05, 8.8571265e-02, ..., 1.2756054e-03,\n",
              "        1.3348978e-03, 9.0412879e-01],\n",
              "       [9.1198337e-04, 2.3927414e-06, 9.8878099e-03, ..., 4.4870432e-03,\n",
              "        7.7185634e-04, 9.8393756e-01],\n",
              "       [1.2901633e-02, 2.8161297e-04, 4.6881817e-02, ..., 2.9751181e-03,\n",
              "        3.0301507e-03, 9.2531592e-01]], dtype=float32)"
            ]
          },
          "metadata": {},
          "execution_count": 21
        }
      ]
    },
    {
      "cell_type": "code",
      "source": [
        "predictions = np.argmax(predictions,axis = 1)\n",
        "predictions"
      ],
      "metadata": {
        "colab": {
          "base_uri": "https://localhost:8080/"
        },
        "id": "Efg_LOYQ2OoK",
        "outputId": "a324d929-0fd7-480b-a622-bdb5573ea500"
      },
      "execution_count": null,
      "outputs": [
        {
          "output_type": "execute_result",
          "data": {
            "text/plain": [
              "array([4, 0, 0, ..., 6, 6, 6])"
            ]
          },
          "metadata": {},
          "execution_count": 22
        }
      ]
    },
    {
      "cell_type": "code",
      "source": [
        "test_dataset.classes"
      ],
      "metadata": {
        "colab": {
          "base_uri": "https://localhost:8080/"
        },
        "id": "L6tHXQzw31Mk",
        "outputId": "c4b06f06-7a33-445b-d1dd-7b704cfff350"
      },
      "execution_count": null,
      "outputs": [
        {
          "output_type": "execute_result",
          "data": {
            "text/plain": [
              "array([0, 0, 0, ..., 6, 6, 6], dtype=int32)"
            ]
          },
          "metadata": {},
          "execution_count": 23
        }
      ]
    },
    {
      "cell_type": "code",
      "source": [
        "from sklearn.metrics import accuracy_score\n",
        "accuracy_score(test_dataset.classes,predictions)"
      ],
      "metadata": {
        "colab": {
          "base_uri": "https://localhost:8080/"
        },
        "id": "C-q4sI4V38ZX",
        "outputId": "46babeb6-90d4-46f0-a127-885f97157e18"
      },
      "execution_count": null,
      "outputs": [
        {
          "output_type": "execute_result",
          "data": {
            "text/plain": [
              "0.5865143494009474"
            ]
          },
          "metadata": {},
          "execution_count": 24
        }
      ]
    },
    {
      "cell_type": "code",
      "source": [
        "test_dataset.class_indices"
      ],
      "metadata": {
        "colab": {
          "base_uri": "https://localhost:8080/"
        },
        "id": "4Kj1edYa4SIi",
        "outputId": "b2ee092f-7903-4ce0-ee72-27a0b9790e79"
      },
      "execution_count": null,
      "outputs": [
        {
          "output_type": "execute_result",
          "data": {
            "text/plain": [
              "{'Angry': 0,\n",
              " 'Disgust': 1,\n",
              " 'Fear': 2,\n",
              " 'Happy': 3,\n",
              " 'Neutral': 4,\n",
              " 'Sad': 5,\n",
              " 'Surprise': 6}"
            ]
          },
          "metadata": {},
          "execution_count": 25
        }
      ]
    },
    {
      "cell_type": "code",
      "source": [
        "from sklearn.metrics import confusion_matrix\n",
        "cm = confusion_matrix(test_dataset.classes,predictions)\n",
        "cm"
      ],
      "metadata": {
        "colab": {
          "base_uri": "https://localhost:8080/"
        },
        "id": "zQRDF6uJ4cKZ",
        "outputId": "405b0703-0653-4aab-b888-a0d0930db877"
      },
      "execution_count": null,
      "outputs": [
        {
          "output_type": "execute_result",
          "data": {
            "text/plain": [
              "array([[285,   8,  49,  11,  70,  59,   9],\n",
              "       [  7,  41,   2,   2,   1,   0,   2],\n",
              "       [ 59,   6, 257,  14,  65,  81,  46],\n",
              "       [ 21,   0,  11, 770,  40,  28,   9],\n",
              "       [ 87,  11,  88, 155, 118, 108,  59],\n",
              "       [ 49,   2,  61,  32, 132, 309,   9],\n",
              "       [ 10,   0,  36,  26,  12,   7, 325]])"
            ]
          },
          "metadata": {},
          "execution_count": 27
        }
      ]
    },
    {
      "cell_type": "code",
      "source": [
        "sns.heatmap(cm,annot=True)"
      ],
      "metadata": {
        "colab": {
          "base_uri": "https://localhost:8080/",
          "height": 282
        },
        "id": "fDqk0zwU4sQX",
        "outputId": "46a35ab6-c91c-4dce-b25c-c60cbf28cf3d"
      },
      "execution_count": null,
      "outputs": [
        {
          "output_type": "execute_result",
          "data": {
            "text/plain": [
              "<AxesSubplot:>"
            ]
          },
          "metadata": {},
          "execution_count": 29
        },
        {
          "output_type": "display_data",
          "data": {
            "text/plain": [
              "<Figure size 432x288 with 2 Axes>"
            ],
            "image/png": "[encoded data removed]"
          },
          "metadata": {
            "needs_background": "light"
          }
        }
      ]
    },
    {
      "cell_type": "code",
      "source": [
        "from sklearn.metrics import classification_report\n",
        "classification_report(test_dataset.classes,predictions)"
      ],
      "metadata": {
        "colab": {
          "base_uri": "https://localhost:8080/",
          "height": 105
        },
        "id": "Yd0TWVHH41up",
        "outputId": "6e4f8e2f-d1e3-448a-deb2-d77aa7aa0fb7"
      },
      "execution_count": null,
      "outputs": [
        {
          "output_type": "execute_result",
          "data": {
            "text/plain": [
              "'              precision    recall  f1-score   support\\n\\n           0       0.55      0.58      0.56       491\\n           1       0.60      0.75      0.67        55\\n           2       0.51      0.49      0.50       528\\n           3       0.76      0.88      0.82       879\\n           4       0.27      0.19      0.22       626\\n           5       0.52      0.52      0.52       594\\n           6       0.71      0.78      0.74       416\\n\\n    accuracy                           0.59      3589\\n   macro avg       0.56      0.60      0.58      3589\\nweighted avg       0.56      0.59      0.57      3589\\n'"
            ],
            "application/vnd.google.colaboratory.intrinsic+json": {
              "type": "string"
            }
          },
          "metadata": {},
          "execution_count": 30
        }
      ]
    }
  ]
}